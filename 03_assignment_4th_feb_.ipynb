{
 "cells": [
  {
   "cell_type": "raw",
   "id": "1de41208-0440-4d92-b3d5-22481a7ebb93",
   "metadata": {},
   "source": [
    "\"\"\"Create a python program to sort the given list of tuples based on integer value using a\n",
    "lambda function.\n",
    "[('Sachin Tendulkar', 34357), ('Ricky Ponting', 27483), ('Jack Kallis', 25534), ('Virat Kohli', 24936)]\"\"\"\n",
    "\n",
    "list_of_tuples = [('Sachin Tendulkar', 34357), ('Ricky Ponting', 27483), ('Jack Kallis', 25534), ('Virat Kohli', 24936)]\n",
    "\n",
    "sorted_list = sorted(list_of_tuples, key=lambda x: x[1], reverse = False)\n",
    "\n",
    "print(\"Sorted list of tuples based on integer value (runs scored):\", sorted_list)"
   ]
  },
  {
   "cell_type": "raw",
   "id": "70535b27-e6c1-427c-a6c3-4ecc040c829e",
   "metadata": {},
   "source": [
    "'''Q2. Write a Python Program to find the squares of all the numbers in the given list of integers using\n",
    "lambda and map functions.\n",
    "[1, 2, 3, 4, 5, 6, 7, 8, 9, 10]'''\n",
    "l=[1,2,3,4,5,6,7,8,9,10]\n",
    "l1 = list(map(lambda x : x**2 ,l))\n",
    "print(l1)"
   ]
  },
  {
   "cell_type": "raw",
   "id": "878ed960-e5f4-4bed-bfa3-82c3b1d3691a",
   "metadata": {},
   "source": [
    "'''Q3. Write a python program to convert the given list of integers into a tuple of strings. Use map and\n",
    "lambda functions\n",
    "Given String: [1, 2, 3, 4, 5, 6, 7, 8, 9, 10]\n",
    "Expected output: ('1', '2', '3', '4', '5', '6', '7', '8', '9', '10')'''\n",
    "list = [1,2,3,4,5,6,7,8,9,10]\n",
    "t = tuple(map(lambda x : str(x) ,list))\n",
    "print(t)"
   ]
  },
  {
   "cell_type": "raw",
   "id": "c868d4ad-712a-4afe-b59a-a45e96bdadae",
   "metadata": {},
   "source": [
    "'''Q4. Write a python program using reduce function to compute the product of a list containing numbers\n",
    "from 1 to 25.'''\n",
    "from functools import *\n",
    "\n",
    "nlist = [i for i in range(1, 25)]\n",
    "\n",
    "\n",
    "ans = (reduce(lambda x, y: x*y, nlist))\n",
    "print(ans)"
   ]
  },
  {
   "cell_type": "raw",
   "id": "28e04bc7-5408-4b0c-a3c0-57d499fe94c9",
   "metadata": {},
   "source": [
    "# Q5. Write a python program to filter the numbers in a given list that are divisible by 2 and 3 using the\n",
    "# filter function.\n",
    "# [2, 3, 6, 9, 27, 60, 90, 120, 55, 46]\n",
    "# Given list of numbers\n",
    "numbers_list = [2, 3, 6, 9, 27, 60, 90, 120, 55, 46]\n",
    "\n",
    "# Filter numbers that are divisible by both 2 and 3 using filter function\n",
    "filtered_numbers = filter(lambda x: x % 2 == 0 and x % 3 == 0, numbers_list)\n",
    "\n",
    "# Convert the filtered result to a list\n",
    "filtered_numbers_list = list(filtered_numbers)\n",
    "\n",
    "print(\"Numbers divisible by both 2 and 3:\", filtered_numbers_list)"
   ]
  },
  {
   "cell_type": "code",
   "execution_count": 42,
   "id": "4507bfcd-0dba-471f-9c61-fce8527cc97e",
   "metadata": {},
   "outputs": [
    {
     "ename": "TypeError",
     "evalue": "'list' object is not callable",
     "output_type": "error",
     "traceback": [
      "\u001b[0;31m---------------------------------------------------------------------------\u001b[0m",
      "\u001b[0;31mTypeError\u001b[0m                                 Traceback (most recent call last)",
      "Cell \u001b[0;32mIn[42], line 2\u001b[0m\n\u001b[1;32m      1\u001b[0m nlist \u001b[38;5;241m=\u001b[39m [\u001b[38;5;124m'\u001b[39m\u001b[38;5;124mpython\u001b[39m\u001b[38;5;124m'\u001b[39m, \u001b[38;5;124m'\u001b[39m\u001b[38;5;124mphp\u001b[39m\u001b[38;5;124m'\u001b[39m, \u001b[38;5;124m'\u001b[39m\u001b[38;5;124maba\u001b[39m\u001b[38;5;124m'\u001b[39m, \u001b[38;5;124m'\u001b[39m\u001b[38;5;124mradar\u001b[39m\u001b[38;5;124m'\u001b[39m, \u001b[38;5;124m'\u001b[39m\u001b[38;5;124mlevel\u001b[39m\u001b[38;5;124m'\u001b[39m]\n\u001b[0;32m----> 2\u001b[0m \u001b[38;5;28;43mlist\u001b[39;49m\u001b[43m(\u001b[49m\u001b[38;5;28;43mfilter\u001b[39;49m\u001b[43m(\u001b[49m\u001b[38;5;28;43;01mlambda\u001b[39;49;00m\u001b[43m \u001b[49m\u001b[43mx\u001b[49m\u001b[43m:\u001b[49m\u001b[43m \u001b[49m\u001b[43m(\u001b[49m\u001b[43mx\u001b[49m\u001b[43m \u001b[49m\u001b[38;5;241;43m==\u001b[39;49m\u001b[43m \u001b[49m\u001b[38;5;124;43m\"\u001b[39;49m\u001b[38;5;124;43m\"\u001b[39;49m\u001b[38;5;241;43m.\u001b[39;49m\u001b[43mjoin\u001b[49m\u001b[43m(\u001b[49m\u001b[38;5;28;43mreversed\u001b[39;49m\u001b[43m(\u001b[49m\u001b[43mx\u001b[49m\u001b[43m)\u001b[49m\u001b[43m)\u001b[49m\u001b[43m)\u001b[49m\u001b[43m,\u001b[49m\u001b[43m \u001b[49m\u001b[43mnlist\u001b[49m\u001b[43m)\u001b[49m\u001b[43m)\u001b[49m\n",
      "\u001b[0;31mTypeError\u001b[0m: 'list' object is not callable"
     ]
    }
   ],
   "source": [
    "nlist = ['python', 'php', 'aba', 'radar', 'level']\n",
    "list(filter(lambda x: (x == \"\".join(reversed(x))), nlist))"
   ]
  },
  {
   "cell_type": "code",
   "execution_count": null,
   "id": "f1cd10c7-5dfe-4622-9e87-42658cef8d62",
   "metadata": {},
   "outputs": [],
   "source": []
  }
 ],
 "metadata": {
  "kernelspec": {
   "display_name": "Python 3 (ipykernel)",
   "language": "python",
   "name": "python3"
  },
  "language_info": {
   "codemirror_mode": {
    "name": "ipython",
    "version": 3
   },
   "file_extension": ".py",
   "mimetype": "text/x-python",
   "name": "python",
   "nbconvert_exporter": "python",
   "pygments_lexer": "ipython3",
   "version": "3.10.8"
  }
 },
 "nbformat": 4,
 "nbformat_minor": 5
}
