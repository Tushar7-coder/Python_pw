{
 "cells": [
  {
   "cell_type": "raw",
   "id": "88c6ae25-c519-436b-92a3-4165a41f2515",
   "metadata": {},
   "source": [
    "1- Which keyword is used to create a function? Create a function to return a list of odd numbers in the\n",
    "range of 1 to 25.\n",
    "ans --\n",
    "\n",
    "def keyword is used to create a funvtion in python \n",
    "def fun1():\n",
    "    list = []\n",
    "    for i in range(1,26):\n",
    "        if i %2 != 0:\n",
    "            list.append(i)\n",
    "    return list\n",
    "print(fun1())"
   ]
  },
  {
   "cell_type": "raw",
   "id": "8eb82132-c1c6-4b73-98b2-6d2a0bbe5a21",
   "metadata": {},
   "source": [
    "2--Why *args and **kwargs is used in some functions? Create a function each for *args and **kwargs\n",
    "to demonstrate their use.\n",
    "\n",
    "ans --\n",
    "\n",
    "*args and **kwargs are used in Python functions to handle variable numbers of arguments.\n",
    "\n",
    "*args: It allows you to pass a variable number of positional arguments to a function. The name args is just a convention; you can use any name preceded by *. Inside the function, args becomes a tuple containing all the positional arguments passed to the function.\n",
    "\n",
    "**kwargs: It allows you to pass a variable number of keyword arguments (or named arguments) to a function. Similarly, the name kwargs is a convention; you can use any name preceded by **. Inside the function, kwargs becomes a dictionary containing all the keyword arguments passed to the function.\n",
    "\n",
    "\n",
    "\n",
    "\n",
    "def function_with_args(*args):\n",
    "    print(\"Positional arguments (*args):\", args)\n",
    "    for arg in args:\n",
    "        print(\"Argument:\", arg)\n",
    "\n",
    "def function_with_kwargs(**kwargs):\n",
    "    print(\"Keyword arguments (**kwargs):\", kwargs)\n",
    "    for key, value in kwargs.items():\n",
    "        print(\"Key:\", key, \"| Value:\", value)\n",
    "\n",
    "# Example usage\n",
    "function_with_args(1, 2, 3, 4, 5)\n",
    "function_with_kwargs(name=\"Alice\", age=30, city=\"New York\")"
   ]
  },
  {
   "cell_type": "raw",
   "id": "f400d423-729a-44e3-9a19-169311222fec",
   "metadata": {},
   "source": [
    "Q3. What is an iterator in python? Name the method used to initialise the iterator object and the method\n",
    "used for iteration. Use these methods to print the first five elements of the given list [2, 4, 6, 8, 10, 12, 14,\n",
    "16, 18, 20].\n",
    "ans \n",
    "In Python, an iterator is an object that represents a stream of data. It implements two methods:\n",
    "\n",
    "__iter__(): This method initializes the iterator object. It returns the iterator object itself.\n",
    "__next__(): This method is used for iteration. It returns the next element in the stream of data and raises a StopIteration exception when there are no more elements to return.\n",
    "\n",
    "\n",
    "\n",
    "\n",
    "iterator = iter([2, 4, 6, 8, 10, 12, 14, 16, 18, 20])\n",
    "\n",
    "\n",
    "for _ in range(5):\n",
    "    element = next(iterator)\n",
    "    print(element)"
   ]
  },
  {
   "cell_type": "raw",
   "id": "ad09b07b-e14e-43de-9d82-01535d102bc3",
   "metadata": {},
   "source": [
    "4--\n",
    "What is a generator function in python? Why yield keyword is used? Give an example of a generator\n",
    "function.\n",
    "ans --\n",
    "\n",
    "In Python, a generator function is a special type of function that returns an iterator called a generator. It allows you to generate a sequence of values over time without storing them all in memory at once, making it memory-efficient, especially for large datasets or infinite sequences.\n",
    "\n",
    "The yield keyword is used in a generator function to temporarily suspend the function's execution and yield a value to the caller. When the generator function is called again, it resumes execution from where it left off, retaining its previous state, including local variables' values.\n",
    "\n",
    "Here's an example of a generator function that generates a sequence of Fibonacci numbers:\n",
    "\n",
    "python\n",
    "Copy code\n",
    "def fibonacci_generator():\n",
    "    a, b = 0, 1\n",
    "    while True:\n",
    "        yield a\n",
    "        a, b = b, a + b\n",
    "\n",
    "# Create a generator object\n",
    "fib_gen = fibonacci_generator()\n",
    "\n",
    "# Generate and print the first 10 Fibonacci numbers\n",
    "for _ in range(10):\n",
    "    print(next(fib_gen))"
   ]
  },
  {
   "cell_type": "raw",
   "id": "f4621b16-eab4-4084-b5c3-46422559c399",
   "metadata": {},
   "source": [
    "# 5--- Create a generator function for prime numbers less than 1000. Use the next() method to print the\n",
    "# first 20 prime numbers.\n",
    "def is_prime(n):\n",
    "    if n <= 1:\n",
    "        return False\n",
    "    for i in range(2, int(n**0.5) + 1):\n",
    "        if n % i == 0:\n",
    "            return False\n",
    "    return True\n",
    "\n",
    "def prime_generator():\n",
    "    num = 2\n",
    "    while num < 1000:\n",
    "        if is_prime(num):\n",
    "            yield num\n",
    "        num += 1\n",
    "\n",
    "\n",
    "prime_gen = prime_generator()\n",
    "\n",
    "for _ in range(20):\n",
    "    print(next(prime_gen))"
   ]
  },
  {
   "cell_type": "raw",
   "id": "b6bdf7bb-4896-4627-95fb-f8796e75a1ee",
   "metadata": {},
   "source": [
    "# 6--Write a python program to print the first 10 Fibonacci numbers using a while loop.\n",
    "a, b = 0, 1\n",
    "count = 0\n",
    "\n",
    "while count < 10:\n",
    "    print(a, end=\" \")\n",
    "    a, b = b, a + b\n",
    "    count += 1"
   ]
  },
  {
   "cell_type": "code",
   "execution_count": 11,
   "id": "c0d3da57-c493-44da-a966-44149114c33f",
   "metadata": {},
   "outputs": [
    {
     "data": {
      "text/plain": [
       "['p', 'w', 's', 'k', 'i', 'l', 'l', 's']"
      ]
     },
     "execution_count": 11,
     "metadata": {},
     "output_type": "execute_result"
    }
   ],
   "source": [
    "# # 7 -- Write a List Comprehension to iterate through the given string: ‘pwskills’.\n",
    "# Expected output: ['p', 'w', 's', 'k', 'i', 'l', 'l', 's']\n",
    "string = \"pwskills\"\n",
    "[i for i in string]\n",
    "\n",
    "\n"
   ]
  },
  {
   "cell_type": "code",
   "execution_count": 12,
   "id": "b2714165-ccdc-45b2-ac80-d691e32c37be",
   "metadata": {},
   "outputs": [
    {
     "name": "stdin",
     "output_type": "stream",
     "text": [
      "Enter a number:  13531\n"
     ]
    },
    {
     "name": "stdout",
     "output_type": "stream",
     "text": [
      "13531 is a palindrome.\n"
     ]
    }
   ],
   "source": [
    "# 8--Write a python program to check whether a given number is Palindrome or not using a while loop.\n",
    "def is_palindrome(number):\n",
    "    original_number = number\n",
    "    reversed_number = 0\n",
    "    \n",
    "    while number > 0:\n",
    "        digit = number % 10\n",
    "        reversed_number = reversed_number * 10 + digit\n",
    "        number //= 10\n",
    "    \n",
    "    return original_number == reversed_number\n",
    "\n",
    "\n",
    "num = int(input(\"Enter a number: \"))\n",
    "\n",
    "if is_palindrome(num):\n",
    "    print(num, \"is a palindrome.\")\n",
    "else:\n",
    "    print(num, \"is not a palindrome.\")"
   ]
  },
  {
   "cell_type": "code",
   "execution_count": 18,
   "id": "5a80fad8-466d-4563-b1e3-819180ba6d6a",
   "metadata": {},
   "outputs": [
    {
     "name": "stdout",
     "output_type": "stream",
     "text": [
      "[1, 3, 5, 7, 9, 11, 13, 15, 17, 19, 21, 23, 25, 27, 29, 31, 33, 35, 37, 39, 41, 43, 45, 47, 49, 51, 53, 55, 57, 59, 61, 63, 65, 67, 69, 71, 73, 75, 77, 79, 81, 83, 85, 87, 89, 91, 93, 95, 97, 99]\n"
     ]
    }
   ],
   "source": [
    "# 9--Write a code to print odd numbers from 1 to 100 using list comprehension.\n",
    "list = [i for i in range(1,101) if i % 2 !=0 ]\n",
    "print(list)\n"
   ]
  },
  {
   "cell_type": "code",
   "execution_count": null,
   "id": "db2bd05f-280e-47d8-a267-56e466b3e7e2",
   "metadata": {},
   "outputs": [],
   "source": []
  }
 ],
 "metadata": {
  "kernelspec": {
   "display_name": "Python 3 (ipykernel)",
   "language": "python",
   "name": "python3"
  },
  "language_info": {
   "codemirror_mode": {
    "name": "ipython",
    "version": 3
   },
   "file_extension": ".py",
   "mimetype": "text/x-python",
   "name": "python",
   "nbconvert_exporter": "python",
   "pygments_lexer": "ipython3",
   "version": "3.10.8"
  }
 },
 "nbformat": 4,
 "nbformat_minor": 5
}
